{
 "cells": [
  {
   "cell_type": "markdown",
   "id": "cf748863",
   "metadata": {},
   "source": [
    "\n",
    "# Business Questions Analysis: Healthcare Data\n",
    "\n",
    "This notebook answers key business questions related to healthcare using a dataset containing information on diseases in Brazil. The methods applied include regression models, clustering algorithms, and optimization techniques.\n"
   ]
  },
  {
   "cell_type": "markdown",
   "id": "cb4dbb9a",
   "metadata": {},
   "source": [
    "\n",
    "## 1. Previsão de Custo de Tratamento\n",
    "\n",
    "**Pergunta:** Qual será o custo médio do tratamento para novos casos de doenças com base nos dados históricos?\n",
    "\n",
    "**Aplicação:** Modelos de regressão linear ou árvores de regressão podem ser utilizados para prever o custo de tratamentos futuros com base nos fatores de doença, região e incidência.\n",
    "\n",
    "### Passos:\n",
    "1. Definir as variáveis preditoras e a variável alvo.\n",
    "2. Dividir os dados em treino e teste.\n",
    "3. Treinar um modelo de regressão linear para prever o custo de tratamento.\n"
   ]
  },
  {
   "cell_type": "code",
   "execution_count": null,
   "id": "e5b26f8d",
   "metadata": {},
   "outputs": [],
   "source": [
    "\n",
    "from sklearn.model_selection import train_test_split\n",
    "from sklearn.linear_model import LinearRegression\n",
    "from sklearn.metrics import mean_squared_error\n",
    "\n",
    "# Defining features and target for cost prediction\n",
    "X = df[['Incidência Anual (por 100k hab)', 'Número de Casos', 'Mortalidade (%)']]\n",
    "y = df['Custo Médio do Tratamento (R$)']\n",
    "\n",
    "# Splitting the data\n",
    "X_train, X_test, y_train, y_test = train_test_split(X, y, test_size=0.2, random_state=42)\n",
    "\n",
    "# Creating and training the linear regression model\n",
    "model = LinearRegression()\n",
    "model.fit(X_train, y_train)\n",
    "\n",
    "# Predictions and evaluation\n",
    "y_pred = model.predict(X_test)\n",
    "mse = mean_squared_error(y_test, y_pred)\n",
    "print(f'Mean Squared Error: {mse}')\n"
   ]
  },
  {
   "cell_type": "markdown",
   "id": "6deed4ef",
   "metadata": {},
   "source": [
    "\n",
    "## 2. Segmentação de Pacientes para Tratamentos Específicos\n",
    "\n",
    "**Pergunta:** Quais grupos de pacientes têm maior probabilidade de responder a determinados tipos de tratamento?\n",
    "\n",
    "**Aplicação:** Algoritmos de agrupamento (clustering), como K-means, podem ser usados para identificar perfis de pacientes que respondem melhor a tipos específicos de tratamentos.\n",
    "\n",
    "### Passos:\n",
    "1. Aplicar K-means clustering com base nas características dos pacientes (faixa etária, doença, etc.).\n",
    "2. Analisar os clusters formados.\n"
   ]
  },
  {
   "cell_type": "code",
   "execution_count": null,
   "id": "44aca798",
   "metadata": {},
   "outputs": [],
   "source": [
    "\n",
    "from sklearn.cluster import KMeans\n",
    "import matplotlib.pyplot as plt\n",
    "\n",
    "# Selecting features for clustering\n",
    "X_clustering = df[['Incidência Anual (por 100k hab)', 'Mortalidade (%)', 'Número de Casos']]\n",
    "\n",
    "# Applying KMeans\n",
    "kmeans = KMeans(n_clusters=3, random_state=42)\n",
    "df['Cluster'] = kmeans.fit_predict(X_clustering)\n",
    "\n",
    "# Visualizing the clusters\n",
    "plt.scatter(X_clustering.iloc[:, 0], X_clustering.iloc[:, 1], c=df['Cluster'], cmap='viridis')\n",
    "plt.title('Patient Segmentation by Clusters')\n",
    "plt.xlabel('Incidência Anual (por 100k hab)')\n",
    "plt.ylabel('Mortalidade (%)')\n",
    "plt.show()\n"
   ]
  },
  {
   "cell_type": "markdown",
   "id": "266574f2",
   "metadata": {},
   "source": [
    "\n",
    "## 3. Otimização de Alocação de Recursos\n",
    "\n",
    "**Pergunta:** Como priorizar a alocação de recursos em regiões e doenças específicas para maximizar a eficiência dos tratamentos?\n",
    "\n",
    "**Aplicação:** Técnicas de análise de decisão e modelos preditivos podem ajudar a alocar orçamentos e recursos médicos para áreas e doenças com maior demanda.\n",
    "\n",
    "### Passos:\n",
    "1. Identificar as regiões e doenças mais críticas.\n",
    "2. Criar um modelo para otimizar a alocação de recursos nessas áreas.\n"
   ]
  },
  {
   "cell_type": "code",
   "execution_count": null,
   "id": "9f1d90de",
   "metadata": {},
   "outputs": [],
   "source": [
    "\n",
    "# Grouping data by region and calculating total cases and costs\n",
    "resource_allocation = df.groupby('Região mais Afetada').agg({\n",
    "    'Número de Casos': 'sum',\n",
    "    'Custo Médio do Tratamento (R$)': 'mean'\n",
    "}).sort_values(by='Número de Casos', ascending=False)\n",
    "\n",
    "# Displaying the regions with the highest need for resources\n",
    "resource_allocation.head()\n"
   ]
  },
  {
   "cell_type": "markdown",
   "id": "5857c62e",
   "metadata": {},
   "source": [
    "\n",
    "## 4. Análise da Eficácia de Tratamentos\n",
    "\n",
    "**Pergunta:** Qual tratamento tem maior eficácia em termos de redução de casos e mortalidade?\n",
    "\n",
    "**Aplicação:** Algoritmos de classificação e análise de sobrevivência podem ser usados para analisar os resultados de diferentes tipos de tratamentos.\n",
    "\n",
    "### Passos:\n",
    "1. Agrupar os dados pelo tipo de tratamento.\n",
    "2. Comparar a eficácia em termos de mortalidade e incidência.\n"
   ]
  },
  {
   "cell_type": "code",
   "execution_count": null,
   "id": "6e5fe670",
   "metadata": {},
   "outputs": [],
   "source": [
    "\n",
    "# Grouping data by treatment type and comparing efficacy\n",
    "treatment_effectiveness = df.groupby('Tipo de Tratamento').agg({\n",
    "    'Incidência Anual (por 100k hab)': 'mean',\n",
    "    'Mortalidade (%)': 'mean'\n",
    "}).sort_values(by='Mortalidade (%)')\n",
    "\n",
    "# Displaying the effectiveness of treatments\n",
    "treatment_effectiveness.head()\n"
   ]
  }
 ],
 "metadata": {},
 "nbformat": 4,
 "nbformat_minor": 5
}